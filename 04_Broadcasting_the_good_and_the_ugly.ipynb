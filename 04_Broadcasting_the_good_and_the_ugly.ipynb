{
 "cells": [
  {
   "cell_type": "markdown",
   "id": "ce12fddb-074e-40bd-b3ad-71997fd23c21",
   "metadata": {},
   "source": [
    "PyTorch supports broadcasting elementwise operations. Normally when you want to perform operations like addition and multiplication, you need to make sure that shapes of the operands match, e.g. you can’t add a tensor of shape `[3, 2]` to a tensor of shape `[3, 4]`. But there’s a special case and that’s when you have a singular dimension. PyTorch implicitly tiles the tensor across its singular dimensions to match the shape of the other operand. So it’s valid to add a tensor of shape `[3, 2]` to a tensor of shape `[3, 1]`."
   ]
  },
  {
   "cell_type": "code",
   "execution_count": 1,
   "id": "b55a96e3-db55-476f-8564-4f12cafe3938",
   "metadata": {},
   "outputs": [
    {
     "name": "stdout",
     "output_type": "stream",
     "text": [
      "tensor([[2., 3.],\n",
      "        [5., 6.]])\n"
     ]
    }
   ],
   "source": [
    "import torch\n",
    "\n",
    "a = torch.tensor([[1., 2.], [3., 4.]])\n",
    "b = torch.tensor([[1.], [2.]])\n",
    "# c = a + b.repeat([1, 2])\n",
    "c = a + b\n",
    "\n",
    "print(c)"
   ]
  },
  {
   "cell_type": "markdown",
   "id": "b4f217a7-147c-4afe-83ac-a0a69e091efa",
   "metadata": {},
   "source": [
    "Broadcasting allows us to perform implicit tiling which makes the code shorter, and more memory efficient, since we don’t need to store the result of the tiling operation. One neat place that this can be used is when combining features of varying length. In order to concatenate features of varying length we commonly tile the input tensors, concatenate the result and apply some nonlinearity. This is a common pattern across a variety of neural network architectures:"
   ]
  },
  {
   "cell_type": "code",
   "execution_count": 4,
   "id": "27902487-bfe3-4d40-adec-8b699183749d",
   "metadata": {},
   "outputs": [
    {
     "name": "stdout",
     "output_type": "stream",
     "text": [
      "torch.Size([5, 3, 10])\n"
     ]
    }
   ],
   "source": [
    "a = torch.rand([5, 3, 5])\n",
    "b = torch.rand([5, 1, 6])\n",
    "\n",
    "linear = torch.nn.Linear(11, 10)\n",
    "\n",
    "# concat a and b and apply nonlinearity\n",
    "tiled_b = b.repeat([1, 3, 1])\n",
    "c = torch.cat([a, tiled_b], 2)\n",
    "d = torch.nn.functional.relu(linear(c))\n",
    "\n",
    "print(d.shape)  # torch.Size([5, 3, 10])"
   ]
  },
  {
   "cell_type": "markdown",
   "id": "f5beec2b-ba5e-41d0-bc8d-ed727a5e0b3e",
   "metadata": {},
   "source": [
    "But this can be done more efficiently with broadcasting. We use the fact that `f(m(x + y))` is equal to `f(mx + my)`. So we can do the linear operations separately and use broadcasting to do implicit concatenation:"
   ]
  },
  {
   "cell_type": "code",
   "execution_count": 5,
   "id": "aaf93ae1-d20b-4724-95c3-8857d5e32e31",
   "metadata": {},
   "outputs": [
    {
     "name": "stdout",
     "output_type": "stream",
     "text": [
      "torch.Size([5, 3, 10])\n"
     ]
    }
   ],
   "source": [
    "a = torch.rand([5, 3, 5])\n",
    "b = torch.rand([5, 1, 6])\n",
    "\n",
    "linear1 = torch.nn.Linear(5, 10)\n",
    "linear2 = torch.nn.Linear(6, 10)\n",
    "\n",
    "pa = linear1(a)\n",
    "pb = linear2(b)\n",
    "d = torch.nn.functional.relu(pa + pb)\n",
    "\n",
    "print(d.shape)  # torch.Size([5, 3, 10])"
   ]
  },
  {
   "cell_type": "markdown",
   "id": "fa262828-d876-4c7e-bc4f-1d3cb9b0e4e6",
   "metadata": {},
   "source": [
    "In fact this piece of code is pretty general and can be applied to tensors of arbitrary shape as long as broadcasting between tensors is possible:"
   ]
  },
  {
   "cell_type": "code",
   "execution_count": 6,
   "id": "862322fa-7cf7-4d19-8030-d7919b813cd2",
   "metadata": {},
   "outputs": [],
   "source": [
    "class Merge(torch.nn.Module):\n",
    "    def __init__(self, in_features1, in_features2, out_features, activation=None):\n",
    "        super().__init__()\n",
    "        self.linear1 = torch.nn.Linear(in_features1, out_features)\n",
    "        self.linear2 = torch.nn.Linear(in_features2, out_features)\n",
    "        self.activation = activation\n",
    "\n",
    "    def forward(self, a, b):\n",
    "        pa = self.linear1(a)\n",
    "        pb = self.linear2(b)\n",
    "        c = pa + pb\n",
    "        if self.activation is not None:\n",
    "            c = self.activation(c)\n",
    "        return c"
   ]
  },
  {
   "cell_type": "markdown",
   "id": "2a34d174-f5ab-46e5-bbda-080c22ddd2e5",
   "metadata": {},
   "source": [
    "So far we discussed the good part of broadcasting. But what’s the ugly part you may ask? Implicit assumptions almost always make debugging harder to do. Consider the following example:"
   ]
  },
  {
   "cell_type": "code",
   "execution_count": 7,
   "id": "d7892260-cec8-4a69-a399-f8a769bfabdc",
   "metadata": {},
   "outputs": [
    {
     "name": "stdout",
     "output_type": "stream",
     "text": [
      "tensor(12.)\n"
     ]
    }
   ],
   "source": [
    "a = torch.tensor([[1.], [2.]])\n",
    "b = torch.tensor([1., 2.])\n",
    "c = torch.sum(a + b)\n",
    "\n",
    "print(c)"
   ]
  },
  {
   "cell_type": "markdown",
   "id": "305152f6-6d60-4ca5-b75c-e50e389db2b0",
   "metadata": {},
   "source": [
    "This is because when rank of two tensors don’t match, PyTorch automatically expands the first dimension of the tensor with lower rank before the elementwise operation, so the result of addition would be `[[2, 3], [3, 4]]`, and the reducing over all parameters would give us 12.\r\n",
    "\r\n",
    "The way to avoid this problem is to be as explicit as possible. Had we specified which dimension we would want to reduce across, catching this bug would have been much easier:"
   ]
  },
  {
   "cell_type": "code",
   "execution_count": 8,
   "id": "9b054c85-39af-44b3-a362-7a6c008917e4",
   "metadata": {},
   "outputs": [
    {
     "name": "stdout",
     "output_type": "stream",
     "text": [
      "tensor([5., 7.])\n"
     ]
    }
   ],
   "source": [
    "a = torch.tensor([[1.], [2.]])\n",
    "b = torch.tensor([1., 2.])\n",
    "c = torch.sum(a + b, 0)\n",
    "\n",
    "print(c)"
   ]
  },
  {
   "cell_type": "markdown",
   "id": "f8821331-67eb-4dad-8f38-cdcea50687fc",
   "metadata": {},
   "source": [
    "Here the value of c would be `[5, 7]`, and we immediately would guess based on the shape of the result that there’s something wrong. A general rule of thumb is to always specify the dimensions in reduction operations and when using `torch.squeeze`."
   ]
  },
  {
   "cell_type": "code",
   "execution_count": null,
   "id": "6d65ba56-9b3d-4b5a-a99e-909c6b0a0289",
   "metadata": {},
   "outputs": [],
   "source": []
  }
 ],
 "metadata": {
  "kernelspec": {
   "display_name": "Python 3 (ipykernel)",
   "language": "python",
   "name": "python3"
  },
  "language_info": {
   "codemirror_mode": {
    "name": "ipython",
    "version": 3
   },
   "file_extension": ".py",
   "mimetype": "text/x-python",
   "name": "python",
   "nbconvert_exporter": "python",
   "pygments_lexer": "ipython3",
   "version": "3.9.18"
  }
 },
 "nbformat": 4,
 "nbformat_minor": 5
}
