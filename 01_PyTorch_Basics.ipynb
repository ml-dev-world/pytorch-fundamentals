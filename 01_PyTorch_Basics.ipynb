{
 "cells": [
  {
   "cell_type": "markdown",
   "id": "32ded3f4-3d26-4c15-8f98-4bd4f8059bb9",
   "metadata": {},
   "source": [
    "PyTorch stands out as a leading library for numerical computation, particularly in the realm of machine learning research. Similar to NumPy, PyTorch revolves around the concept of Tensors, which are versatile multidimensional arrays. However, what sets PyTorch apart is its seamless integration with CPUs, GPUs, and TPUs, offering flexibility in hardware utilization without necessitating significant alterations to code. Additionally, PyTorch facilitates effortless distribution of computations across multiple devices or machines.\r\n",
    "\r\n",
    "A standout feature of PyTorch is its automatic differentiation capability, enabling the efficient computation of function gradients. This functionality proves indispensable for training machine learning models via gradient descent methods. By harnessing PyTorch's automatic differentiation, practitioners can efficiently compute gradients analytically, streamlining the model optimization process.\r\n",
    "\r\n",
    "To delve into PyTorch effectively, it's crucial to grasp the fundamentals of Tensors. These structures not only resemble NumPy arrays but also boast additional functionalities, making them instrumental in various computational tasks. Thus, understanding Tensors serves as the cornerstone for leveraging PyTorch's capabilities effectively and embarking on successful machine learning endeavors."
   ]
  },
  {
   "cell_type": "markdown",
   "id": "339abe39-e824-4bd0-8c93-7461fe9a867f",
   "metadata": {},
   "source": [
    "A tensor can store a scalar value:\r\n",
    "\r\n"
   ]
  },
  {
   "cell_type": "code",
   "execution_count": 1,
   "id": "088b5a41-ffa0-4a91-9ea6-b04dfad76ff2",
   "metadata": {},
   "outputs": [
    {
     "name": "stdout",
     "output_type": "stream",
     "text": [
      "tensor(3)\n"
     ]
    }
   ],
   "source": [
    "import torch\n",
    "a = torch.tensor(3)\n",
    "print(a)"
   ]
  },
  {
   "cell_type": "markdown",
   "id": "3a7ec043-7a7b-4a66-be68-0cfce8cad861",
   "metadata": {},
   "source": [
    "or an array:\r\n",
    "\r\n"
   ]
  },
  {
   "cell_type": "code",
   "execution_count": 2,
   "id": "9581a567-1074-44dd-ae89-d135b641f263",
   "metadata": {},
   "outputs": [
    {
     "name": "stdout",
     "output_type": "stream",
     "text": [
      "tensor([1, 2])\n"
     ]
    }
   ],
   "source": [
    "b = torch.tensor([1, 2])\n",
    "print(b) "
   ]
  },
  {
   "cell_type": "markdown",
   "id": "79f83c7d-4dfd-4295-86f0-758da8126275",
   "metadata": {},
   "source": [
    "a matrix:"
   ]
  },
  {
   "cell_type": "code",
   "execution_count": 3,
   "id": "da23a2ee-2da1-4e52-854b-eec2f64e3246",
   "metadata": {},
   "outputs": [
    {
     "name": "stdout",
     "output_type": "stream",
     "text": [
      "tensor([[0., 0.],\n",
      "        [0., 0.]])\n"
     ]
    }
   ],
   "source": [
    "c = torch.zeros([2, 2])\n",
    "print(c) "
   ]
  },
  {
   "cell_type": "markdown",
   "id": "2342e4df-817f-4cc1-a2b1-f7c17d062718",
   "metadata": {},
   "source": [
    "or any arbitrary dimensional tensor:\r\n",
    "\r\n"
   ]
  },
  {
   "cell_type": "code",
   "execution_count": 4,
   "id": "83b0cec4-a32f-4f03-8b86-a5207511192b",
   "metadata": {},
   "outputs": [],
   "source": [
    "d = torch.rand([2, 2, 2])"
   ]
  },
  {
   "cell_type": "markdown",
   "id": "7df8b636-c100-4d18-ba3e-9ed04791d5aa",
   "metadata": {},
   "source": [
    "Tensors serve as efficient tools for conducting algebraic operations, pivotal in numerous machine learning applications. Among these operations, matrix multiplication stands out as a cornerstone. For instance, suppose there's a need to multiply two random matrices, one of size 3x5 and the other 5x4. This operation can be seamlessly executed using the matrix multiplication (@) operation in PyTorch:"
   ]
  },
  {
   "cell_type": "code",
   "execution_count": 5,
   "id": "8a1884e5-33d9-4a62-9579-a417cbe5a803",
   "metadata": {},
   "outputs": [
    {
     "name": "stdout",
     "output_type": "stream",
     "text": [
      "tensor([[ 0.1288, -0.2270, -1.7016, -0.2825],\n",
      "        [-1.0185, -0.6407, -0.0217,  1.3082],\n",
      "        [-0.6981, -0.3761,  0.0116,  0.2064]])\n"
     ]
    }
   ],
   "source": [
    "import torch\n",
    "\n",
    "x = torch.randn([3, 5])\n",
    "y = torch.randn([5, 4])\n",
    "z = x @ y\n",
    "\n",
    "print(z)"
   ]
  },
  {
   "cell_type": "markdown",
   "id": "e5d7f10e-3f71-44ff-b628-ff8f0d0e6c24",
   "metadata": {},
   "source": [
    "Similarly, to add two vectors, you can do:\r\n",
    "\r\n"
   ]
  },
  {
   "cell_type": "code",
   "execution_count": 9,
   "id": "b7c99722-3bf7-4376-9816-94b61268d431",
   "metadata": {},
   "outputs": [],
   "source": [
    "z = x + x"
   ]
  },
  {
   "cell_type": "markdown",
   "id": "a6916cf9-64f0-42b1-bbb6-13d882e927a3",
   "metadata": {},
   "source": [
    "To convert a tensor into a numpy array you can call Tensor's numpy() method:\r\n",
    "\r\n"
   ]
  },
  {
   "cell_type": "code",
   "execution_count": 10,
   "id": "471d3ef0-099b-48c6-843d-d39b1ab9731e",
   "metadata": {},
   "outputs": [
    {
     "name": "stdout",
     "output_type": "stream",
     "text": [
      "[[-0.52415884 -2.1994226  -1.9487829  -2.1244855   2.2021441 ]\n",
      " [ 1.2353979   0.4547561   1.4146829  -1.7605408  -1.8474518 ]\n",
      " [ 0.9261078   0.12827146  1.34049    -0.12805016 -0.44604003]]\n"
     ]
    }
   ],
   "source": [
    "print(z.numpy())"
   ]
  },
  {
   "cell_type": "markdown",
   "id": "be483f44-600c-4f9e-932a-d86d27cab07a",
   "metadata": {},
   "source": [
    "And you can always convert a numpy array into a tensor by:\r\n"
   ]
  },
  {
   "cell_type": "code",
   "execution_count": 12,
   "id": "ff3f1f2e-d802-45cc-8fe8-257937494237",
   "metadata": {},
   "outputs": [],
   "source": [
    "import numpy as np\n",
    "x = torch.tensor(np.random.normal([3, 5]))"
   ]
  },
  {
   "cell_type": "code",
   "execution_count": null,
   "id": "a87f706d-071a-4886-85a7-70acb2a4620b",
   "metadata": {},
   "outputs": [],
   "source": []
  }
 ],
 "metadata": {
  "kernelspec": {
   "display_name": "Python 3 (ipykernel)",
   "language": "python",
   "name": "python3"
  },
  "language_info": {
   "codemirror_mode": {
    "name": "ipython",
    "version": 3
   },
   "file_extension": ".py",
   "mimetype": "text/x-python",
   "name": "python",
   "nbconvert_exporter": "python",
   "pygments_lexer": "ipython3",
   "version": "3.9.18"
  }
 },
 "nbformat": 4,
 "nbformat_minor": 5
}
