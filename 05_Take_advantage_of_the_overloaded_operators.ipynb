{
 "cells": [
  {
   "cell_type": "markdown",
   "id": "0718f826-4191-4e73-90df-fb392673f623",
   "metadata": {},
   "source": [
    "Just like NumPy, PyTorch overloads a number of python operators to make PyTorch code shorter and more readable.\n",
    "\n",
    "The slicing op is one of the overloaded operators that can make indexing tensors very easy:"
   ]
  },
  {
   "cell_type": "code",
   "execution_count": 3,
   "id": "6f0c96db-52c4-46e9-accc-c936a2816442",
   "metadata": {},
   "outputs": [],
   "source": [
    "# z = x[begin:end]  # z = torch.narrow(0, begin, end-begin)"
   ]
  },
  {
   "cell_type": "markdown",
   "id": "bf87405d-cb72-49c0-8f72-c20dfeec2aab",
   "metadata": {},
   "source": [
    "Be very careful when using this op though. The slicing op, like any other op, has some overhead. Because it's a common op and innocent looking it may get overused a lot which may lead to inefficiencies. To understand how inefficient this op can be let's look at an example. We want to manually perform reduction across the rows of a matrix:\r\n",
    "\r\n"
   ]
  },
  {
   "cell_type": "code",
   "execution_count": 4,
   "id": "06358abd-d367-401d-b83f-4acb9a8c723c",
   "metadata": {},
   "outputs": [
    {
     "name": "stdout",
     "output_type": "stream",
     "text": [
      "Took 0.001007 seconds.\n"
     ]
    }
   ],
   "source": [
    "import torch\n",
    "import time\n",
    "\n",
    "x = torch.rand([500, 10])\n",
    "\n",
    "z = torch.zeros([10])\n",
    "\n",
    "start = time.time()\n",
    "for i in range(500):\n",
    "    z += x[i]\n",
    "print(\"Took %f seconds.\" % (time.time() - start))"
   ]
  },
  {
   "cell_type": "markdown",
   "id": "0165b59d-e9b1-4943-bb49-b9ef9e0274a4",
   "metadata": {},
   "source": [
    "This runs quite slow and the reason is that we are calling the slice op 500 times, which adds a lot of overhead. A better choice would have been to use `torch.unbind` op to slice the matrix into a list of vectors all at once:"
   ]
  },
  {
   "cell_type": "code",
   "execution_count": 5,
   "id": "546a3343-9dbc-4a53-bd96-4cb404e381e6",
   "metadata": {},
   "outputs": [],
   "source": [
    "z = torch.zeros([10])\n",
    "for x_i in torch.unbind(x):\n",
    "    z += x_i"
   ]
  },
  {
   "cell_type": "markdown",
   "id": "130eefe2-ca25-42c4-a5b0-fd0f41df0f1e",
   "metadata": {},
   "source": [
    "This is significantly (~30% on my machine) faster.\n",
    "\n",
    "Of course, the right way to do this simple reduction is to use torch.sum op to this in one op:"
   ]
  },
  {
   "cell_type": "code",
   "execution_count": 6,
   "id": "5393751f-5225-4168-ad68-b505c0f85ee0",
   "metadata": {},
   "outputs": [],
   "source": [
    "z = torch.sum(x, dim=0)"
   ]
  },
  {
   "cell_type": "markdown",
   "id": "69545eb4-23ce-46c4-aea0-9971e3d6360f",
   "metadata": {},
   "source": [
    "which is extremely fast (~100x faster on my machine).\n",
    "\n",
    "PyTorch also overloads a range of arithmetic and logical operators:"
   ]
  },
  {
   "cell_type": "code",
   "execution_count": 13,
   "id": "b0e82b8e-8f79-45a9-9ae6-8625fc4179f8",
   "metadata": {},
   "outputs": [],
   "source": [
    "x = torch.rand([50, 50])\n",
    "y = torch.rand([50, 50])"
   ]
  },
  {
   "cell_type": "code",
   "execution_count": 18,
   "id": "25dffbd0-3c14-4206-b92c-4dc81dfee116",
   "metadata": {},
   "outputs": [],
   "source": [
    "z = -x  # z = torch.neg(x)\n",
    "z = x + y  # z = torch.add(x, y)\n",
    "z = x - y\n",
    "z = x * y  # z = torch.mul(x, y)\n",
    "z = x / y  # z = torch.div(x, y)\n",
    "z = x // y\n",
    "z = x % y\n",
    "z = x ** y  # z = torch.pow(x, y)\n",
    "z = x @ y  # z = torch.matmul(x, y)\n",
    "z = x > y\n",
    "z = x >= y\n",
    "z = x < y\n",
    "z = x <= y\n",
    "z = abs(x)  # z = torch.abs(x)\n",
    "z = x == y  # z = torch.eq(x, y)\n",
    "z = x != y  # z = torch.ne(x, y)"
   ]
  },
  {
   "cell_type": "markdown",
   "id": "7e80bb16-eb6a-4411-8656-7141bb56a316",
   "metadata": {},
   "source": [
    "You can also use the augmented version of these ops. For example `x += y` and `x **= 2` are also valid.\r\n",
    "\r\n",
    "Note that Python doesn't allow overloadin`g a`nd`, `or, an`d n`ot keywords."
   ]
  },
  {
   "cell_type": "code",
   "execution_count": null,
   "id": "8bdd7392-52b9-47e4-84bb-ed7018c907f1",
   "metadata": {},
   "outputs": [],
   "source": []
  }
 ],
 "metadata": {
  "kernelspec": {
   "display_name": "Python 3 (ipykernel)",
   "language": "python",
   "name": "python3"
  },
  "language_info": {
   "codemirror_mode": {
    "name": "ipython",
    "version": 3
   },
   "file_extension": ".py",
   "mimetype": "text/x-python",
   "name": "python",
   "nbconvert_exporter": "python",
   "pygments_lexer": "ipython3",
   "version": "3.9.18"
  }
 },
 "nbformat": 4,
 "nbformat_minor": 5
}
